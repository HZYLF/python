{
 "cells": [
  {
   "cell_type": "markdown",
   "metadata": {},
   "source": [
    "## Get\n",
    "urllib是python的内置模块，它的request模块可以非常方便地抓取URL内容，也就是发送一个GET请求到指定的页面，然后返回HTTP的响应：\n",
    "\n",
    "例如，对豆瓣的一个URLhttps://api.douban.com/v2/book/2129650 进行抓取，并返回响应："
   ]
  },
  {
   "cell_type": "code",
   "execution_count": 7,
   "metadata": {
    "scrolled": true
   },
   "outputs": [
    {
     "name": "stdout",
     "output_type": "stream",
     "text": [
      "Status: 200 OK\n",
      "--------------------------------------------------\n",
      "Date: Mon, 27 Aug 2018 06:44:07 GMT\n",
      "Content-Type: application/json; charset=utf-8\n",
      "Content-Length: 2138\n",
      "Connection: close\n",
      "Vary: Accept-Encoding\n",
      "X-Ratelimit-Remaining2: 98\n",
      "X-Ratelimit-Limit2: 100\n",
      "Expires: Sun, 1 Jan 2006 01:00:00 GMT\n",
      "Pragma: no-cache\n",
      "Cache-Control: must-revalidate, no-cache, private\n",
      "Set-Cookie: bid=VJ6kOklAxhU; Expires=Tue, 27-Aug-19 06:44:07 GMT; Domain=.douban.com; Path=/\n",
      "X-DOUBAN-NEWBID: VJ6kOklAxhU\n",
      "X-DAE-Node: anson42\n",
      "X-DAE-App: book\n",
      "Server: dae\n",
      "X-Frame-Options: SAMEORIGIN\n",
      "--------------------------------------------------\n",
      "Data: {\"rating\":{\"max\":10,\"numRaters\":16,\"average\":\"7.4\",\"min\":0},\"subtitle\":\"\",\"author\":[\"廖雪峰\"],\"pubdate\":\"2007\",\"tags\":[{\"count\":21,\"name\":\"spring\",\"title\":\"spring\"},{\"count\":13,\"name\":\"Java\",\"title\":\"Java\"},{\"count\":6,\"name\":\"javaee\",\"title\":\"javaee\"},{\"count\":5,\"name\":\"j2ee\",\"title\":\"j2ee\"},{\"count\":4,\"name\":\"计算机\",\"title\":\"计算机\"},{\"count\":4,\"name\":\"编程\",\"title\":\"编程\"},{\"count\":3,\"name\":\"藏书\",\"title\":\"藏书\"},{\"count\":3,\"name\":\"POJO\",\"title\":\"POJO\"}],\"origin_title\":\"\",\"image\":\"https://img3.doubanio.com\\/view\\/subject\\/m\\/public\\/s2552283.jpg\",\"binding\":\"平装\",\"translator\":[],\"catalog\":\"\",\"pages\":\"509\",\"images\":{\"small\":\"https://img3.doubanio.com\\/view\\/subject\\/s\\/public\\/s2552283.jpg\",\"large\":\"https://img3.doubanio.com\\/view\\/subject\\/l\\/public\\/s2552283.jpg\",\"medium\":\"https://img3.doubanio.com\\/view\\/subject\\/m\\/public\\/s2552283.jpg\"},\"alt\":\"https:\\/\\/book.douban.com\\/subject\\/2129650\\/\",\"id\":\"2129650\",\"publisher\":\"电子工业出版社\",\"isbn10\":\"7121042622\",\"isbn13\":\"9787121042621\",\"title\":\"Spring 2.0核心技术与最佳实践\",\"url\":\"https:\\/\\/api.douban.com\\/v2\\/book\\/2129650\",\"alt_title\":\"\",\"author_intro\":\"\",\"summary\":\"本书注重实践而又深入理论，由浅入深且详细介绍了Spring 2.0框架的几乎全部的内容，并重点突出2.0版本的新特性。本书将为读者展示如何应用Spring 2.0框架创建灵活高效的JavaEE应用，并提供了一个真正可直接部署的完整的Web应用程序——Live在线书店(http:\\/\\/www.livebookstore.net)。\\n在介绍Spring框架的同时，本书还介绍了与Spring相关的大量第三方框架，涉及领域全面，实用性强。本书另一大特色是实用性强，易于上手，以实际项目为出发点，介绍项目开发中应遵循的最佳开发模式。\\n本书还介绍了大量实践性极强的例子，并给出了完整的配置步骤，几乎覆盖了Spring 2.0版本的新特性。\\n本书适合有一定Java基础的读者，对JavaEE开发人员特别有帮助。本书既可以作为Spring 2.0的学习指南，也可以作为实际项目开发的参考手册。\",\"price\":\"59.8\"}\n"
     ]
    }
   ],
   "source": [
    "from urllib import request\n",
    "\n",
    "with request.urlopen('https://api.douban.com/v2/book/2129650') as f:\n",
    "    data = f.read()\n",
    "    print('Status:', f.status, f.reason)\n",
    "    print('-'*50)\n",
    "    for k, v in f.getheaders():\n",
    "        print('%s: %s' % (k, v))\n",
    "    print('-'*50)\n",
    "    print('Data:', data.decode('utf-8'))   #data.decode()一样，默认utf-8"
   ]
  },
  {
   "cell_type": "markdown",
   "metadata": {},
   "source": [
    "### 通过访问url返回data数据\n",
    "\n",
    "resq = request.urlopen(url)  #post则url变为request.Request(url=**,data=**)\n",
    "\n",
    "json.loads(resq.read().decode())   #返回data数据"
   ]
  },
  {
   "cell_type": "code",
   "execution_count": 26,
   "metadata": {
    "scrolled": true
   },
   "outputs": [
    {
     "data": {
      "text/plain": [
       "{'rating': {'max': 10, 'numRaters': 16, 'average': '7.4', 'min': 0},\n",
       " 'subtitle': '',\n",
       " 'author': ['廖雪峰'],\n",
       " 'pubdate': '2007',\n",
       " 'tags': [{'count': 21, 'name': 'spring', 'title': 'spring'},\n",
       "  {'count': 13, 'name': 'Java', 'title': 'Java'},\n",
       "  {'count': 6, 'name': 'javaee', 'title': 'javaee'},\n",
       "  {'count': 5, 'name': 'j2ee', 'title': 'j2ee'},\n",
       "  {'count': 4, 'name': '计算机', 'title': '计算机'},\n",
       "  {'count': 4, 'name': '编程', 'title': '编程'},\n",
       "  {'count': 3, 'name': '藏书', 'title': '藏书'},\n",
       "  {'count': 3, 'name': 'POJO', 'title': 'POJO'}],\n",
       " 'origin_title': '',\n",
       " 'image': 'https://img3.doubanio.com/view/subject/m/public/s2552283.jpg',\n",
       " 'binding': '平装',\n",
       " 'translator': [],\n",
       " 'catalog': '',\n",
       " 'pages': '509',\n",
       " 'images': {'small': 'https://img3.doubanio.com/view/subject/s/public/s2552283.jpg',\n",
       "  'large': 'https://img3.doubanio.com/view/subject/l/public/s2552283.jpg',\n",
       "  'medium': 'https://img3.doubanio.com/view/subject/m/public/s2552283.jpg'},\n",
       " 'alt': 'https://book.douban.com/subject/2129650/',\n",
       " 'id': '2129650',\n",
       " 'publisher': '电子工业出版社',\n",
       " 'isbn10': '7121042622',\n",
       " 'isbn13': '9787121042621',\n",
       " 'title': 'Spring 2.0核心技术与最佳实践',\n",
       " 'url': 'https://api.douban.com/v2/book/2129650',\n",
       " 'alt_title': '',\n",
       " 'author_intro': '',\n",
       " 'summary': '本书注重实践而又深入理论，由浅入深且详细介绍了Spring 2.0框架的几乎全部的内容，并重点突出2.0版本的新特性。本书将为读者展示如何应用Spring 2.0框架创建灵活高效的JavaEE应用，并提供了一个真正可直接部署的完整的Web应用程序——Live在线书店(http://www.livebookstore.net)。\\n在介绍Spring框架的同时，本书还介绍了与Spring相关的大量第三方框架，涉及领域全面，实用性强。本书另一大特色是实用性强，易于上手，以实际项目为出发点，介绍项目开发中应遵循的最佳开发模式。\\n本书还介绍了大量实践性极强的例子，并给出了完整的配置步骤，几乎覆盖了Spring 2.0版本的新特性。\\n本书适合有一定Java基础的读者，对JavaEE开发人员特别有帮助。本书既可以作为Spring 2.0的学习指南，也可以作为实际项目开发的参考手册。',\n",
       " 'price': '59.8'}"
      ]
     },
     "execution_count": 26,
     "metadata": {},
     "output_type": "execute_result"
    }
   ],
   "source": [
    "from urllib import request\n",
    "import json\n",
    "resq = request.urlopen('https://api.douban.com/v2/book/2129650')\n",
    "json.loads(resq.read().decode())"
   ]
  },
  {
   "cell_type": "markdown",
   "metadata": {},
   "source": [
    "如果我们要想模拟浏览器发送GET请求，就需要使用Request对象，通过往Request对象添加HTTP头，我们就可以把请求伪装成浏览器。例如，模拟iPhone 6去请求豆瓣首页："
   ]
  },
  {
   "cell_type": "code",
   "execution_count": 8,
   "metadata": {},
   "outputs": [
    {
     "name": "stdout",
     "output_type": "stream",
     "text": [
      "Status: 200 OK\n",
      "Connection: close\n",
      "Content-Type: text/html;\n",
      "Content-Length: 1019\n",
      "Data: <html><head><script>var ar=decodeURIComponent('http://www.douban.com%2f');t=setTimeout('location.replace(ar)',2000);var ct=0;function ck(){var x=document.createElement('script');x.src='http://bj-ac-001-3e5c:100/src/onlineinfo.js?t='+new Date().getTime();document.body.appendChild(x);if(typeof is_online=='number'&&is_online===1){return;}if(ct>5){location=ar;return;}setTimeout(ck,500);ct++;}function it(){if(typeof(ac_krb_redirect)==='function'){clearTimeout(t);ck();}else{location=ar;}}var eUa=['Edge','Maxthon','MetaSr'];var a=1;var ua=navigator.userAgent;for(var i=0;i<eUa.length;++i){if(ua.indexOf(eUa[i])>-1){a=0;break;}}if(a){lJs('http://bj-ac-001-3e5c:100/src/iwa/index.js?t=1535352283',it);}function lJs(src, f){var s=document.createElement('script');s.type='text/javascript';s.src=src;s.onload=s.onreadystatechange=function(){var r=s.readyState;if(r==='loaded'||r ==='complete'||!r){s.onreadystatechange=null;f();}};document.getElementsByTagName('head')[0].appendChild(s);};</script></head><body></body></html>\n"
     ]
    }
   ],
   "source": [
    "from urllib import request\n",
    "\n",
    "req = request.Request('http://www.douban.com/')\n",
    "req.add_header('User-Agent', 'Mozilla/6.0 (iPhone; CPU iPhone OS 8_0 like Mac OS X) AppleWebKit/536.26 (KHTML, like Gecko) Version/8.0 Mobile/10A5376e Safari/8536.25')\n",
    "with request.urlopen(req) as f:\n",
    "    print('Status:', f.status, f.reason)\n",
    "    for k, v in f.getheaders():\n",
    "        print('%s: %s' % (k, v))\n",
    "    print('Data:', f.read().decode('utf-8'))"
   ]
  },
  {
   "cell_type": "markdown",
   "metadata": {},
   "source": [
    "# Post\n",
    "\n",
    "如果要以POST发送一个请求，只需要把参数data以bytes形式传入。\n",
    "我们模拟一个微博登录，先读取登录的邮箱和口令，然后按照weibo.cn的登录页的格式以username=xxx&password=xxx的编码传入："
   ]
  },
  {
   "cell_type": "code",
   "execution_count": null,
   "metadata": {},
   "outputs": [
    {
     "name": "stdout",
     "output_type": "stream",
     "text": [
      "Login to weibo.cn...\n"
     ]
    }
   ],
   "source": [
    "from urllib import request, parse\n",
    "\n",
    "print('Login to weibo.cn...')\n",
    "email = input('Email: ')\n",
    "passwd = input('Password: ')\n",
    "login_data = parse.urlencode([\n",
    "    ('username', email),\n",
    "    ('password', passwd),\n",
    "    ('entry', 'mweibo'),\n",
    "    ('client_id', ''),\n",
    "    ('savestate', '1'),\n",
    "    ('ec', ''),\n",
    "    ('pagerefer', 'https://passport.weibo.cn/signin/welcome?entry=mweibo&r=http%3A%2F%2Fm.weibo.cn%2F')\n",
    "])\n",
    "\n",
    "req = request.Request('https://passport.weibo.cn/sso/login')\n",
    "req.add_header('Origin', 'https://passport.weibo.cn')\n",
    "req.add_header('User-Agent', 'Mozilla/6.0 (iPhone; CPU iPhone OS 8_0 like Mac OS X) AppleWebKit/536.26 (KHTML, like Gecko) Version/8.0 Mobile/10A5376e Safari/8536.25')\n",
    "req.add_header('Referer', 'https://passport.weibo.cn/signin/login?entry=mweibo&res=wel&wm=3349&r=http%3A%2F%2Fm.weibo.cn%2F')\n",
    "\n",
    "with request.urlopen(req, data=login_data.encode('utf-8')) as f:\n",
    "    print('Status:', f.status, f.reason)\n",
    "    for k, v in f.getheaders():\n",
    "        print('%s: %s' % (k, v))\n",
    "    print('Data:', f.read().decode('utf-8'))"
   ]
  },
  {
   "cell_type": "code",
   "execution_count": 24,
   "metadata": {},
   "outputs": [
    {
     "name": "stdout",
     "output_type": "stream",
     "text": [
      "{\"id\": 1232, \"title\": \"gkjgkj\"}\n"
     ]
    }
   ],
   "source": [
    "dict = {'id':1232,\n",
    "            \"title\":\"gkjgkj\"}\n",
    "tmp = json.dumps(dict)\n",
    "print(tmp)"
   ]
  },
  {
   "cell_type": "code",
   "execution_count": 23,
   "metadata": {},
   "outputs": [
    {
     "name": "stdout",
     "output_type": "stream",
     "text": [
      "[{\"a\": 1, \"b\": 2, \"c\": 3, \"d\": 4, \"e\": 5}]\n"
     ]
    }
   ],
   "source": [
    "\n",
    "data = [ { 'a' : 1, 'b' : 2, 'c' : 3, 'd' : 4, 'e' : 5 } ]\n",
    "\n",
    "js1 = json.dumps(data)\n",
    "\n",
    "print(js1)"
   ]
  },
  {
   "cell_type": "code",
   "execution_count": 1,
   "metadata": {},
   "outputs": [],
   "source": [
    "from urllib import request, parse\n",
    "import json\n",
    "def fetch_data(url):\n",
    "    req = request.Request(url)\n",
    "    req.add_header('User-Agent', 'Mozilla/6.0 (iPhone; CPU iPhone OS 8_0 like Mac OS X) AppleWebKit/536.26 (KHTML, like Gecko) Version/8.0 Mobile/10A5376e Safari/8536.25')\n",
    "    with request.urlopen(req) as f:\n",
    "        return json.loads(f.read().decode('utf-8'))   #一定要用json.loads()，否则报错string indices must be integers"
   ]
  },
  {
   "cell_type": "code",
   "execution_count": 2,
   "metadata": {
    "scrolled": true
   },
   "outputs": [
    {
     "name": "stdout",
     "output_type": "stream",
     "text": [
      "{'query': {'count': 1, 'created': '2018-08-27T07:36:59Z', 'lang': 'en-US', 'results': {'channel': {'units': {'distance': 'mi', 'pressure': 'in', 'speed': 'mph', 'temperature': 'F'}, 'title': 'Yahoo! Weather - Beijing, Beijing, CN', 'link': 'http://us.rd.yahoo.com/dailynews/rss/weather/Country__Country/*https://weather.yahoo.com/country/state/city-2151330/', 'description': 'Yahoo! Weather for Beijing, Beijing, CN', 'language': 'en-us', 'lastBuildDate': 'Mon, 27 Aug 2018 03:36 PM CST', 'ttl': '60', 'location': {'city': 'Beijing', 'country': 'China', 'region': ' Beijing'}, 'wind': {'chill': '90', 'direction': '155', 'speed': '14'}, 'atmosphere': {'humidity': '46', 'pressure': '1004.0', 'rising': '0', 'visibility': '16.1'}, 'astronomy': {'sunrise': '5:38 am', 'sunset': '6:53 pm'}, 'image': {'title': 'Yahoo! Weather', 'width': '142', 'height': '18', 'link': 'http://weather.yahoo.com', 'url': 'http://l.yimg.com/a/i/brand/purplelogo//uh/us/news-wea.gif'}, 'item': {'title': 'Conditions for Beijing, Beijing, CN at 03:00 PM CST', 'lat': '39.90601', 'long': '116.387909', 'link': 'http://us.rd.yahoo.com/dailynews/rss/weather/Country__Country/*https://weather.yahoo.com/country/state/city-2151330/', 'pubDate': 'Mon, 27 Aug 2018 03:00 PM CST', 'condition': {'code': '30', 'date': 'Mon, 27 Aug 2018 03:00 PM CST', 'temp': '89', 'text': 'Partly Cloudy'}, 'forecast': [{'code': '39', 'date': '27 Aug 2018', 'day': 'Mon', 'high': '89', 'low': '76', 'text': 'Scattered Showers'}, {'code': '30', 'date': '28 Aug 2018', 'day': 'Tue', 'high': '89', 'low': '71', 'text': 'Partly Cloudy'}, {'code': '34', 'date': '29 Aug 2018', 'day': 'Wed', 'high': '90', 'low': '72', 'text': 'Mostly Sunny'}, {'code': '30', 'date': '30 Aug 2018', 'day': 'Thu', 'high': '84', 'low': '70', 'text': 'Partly Cloudy'}, {'code': '28', 'date': '31 Aug 2018', 'day': 'Fri', 'high': '81', 'low': '71', 'text': 'Mostly Cloudy'}, {'code': '28', 'date': '01 Sep 2018', 'day': 'Sat', 'high': '82', 'low': '69', 'text': 'Mostly Cloudy'}, {'code': '11', 'date': '02 Sep 2018', 'day': 'Sun', 'high': '82', 'low': '69', 'text': 'Showers'}, {'code': '34', 'date': '03 Sep 2018', 'day': 'Mon', 'high': '87', 'low': '70', 'text': 'Mostly Sunny'}, {'code': '30', 'date': '04 Sep 2018', 'day': 'Tue', 'high': '87', 'low': '70', 'text': 'Partly Cloudy'}, {'code': '30', 'date': '05 Sep 2018', 'day': 'Wed', 'high': '86', 'low': '67', 'text': 'Partly Cloudy'}], 'description': '<![CDATA[<img src=\"http://l.yimg.com/a/i/us/we/52/30.gif\"/>\\n<BR />\\n<b>Current Conditions:</b>\\n<BR />Partly Cloudy\\n<BR />\\n<BR />\\n<b>Forecast:</b>\\n<BR /> Mon - Scattered Showers. High: 89Low: 76\\n<BR /> Tue - Partly Cloudy. High: 89Low: 71\\n<BR /> Wed - Mostly Sunny. High: 90Low: 72\\n<BR /> Thu - Partly Cloudy. High: 84Low: 70\\n<BR /> Fri - Mostly Cloudy. High: 81Low: 71\\n<BR />\\n<BR />\\n<a href=\"http://us.rd.yahoo.com/dailynews/rss/weather/Country__Country/*https://weather.yahoo.com/country/state/city-2151330/\">Full Forecast at Yahoo! Weather</a>\\n<BR />\\n<BR />\\n<BR />\\n]]>', 'guid': {'isPermaLink': 'false'}}}}}}\n",
      "ok\n"
     ]
    }
   ],
   "source": [
    "URL = 'https://query.yahooapis.com/v1/public/yql?q=select%20*%20from%20weather.forecast%20where%20woeid%20%3D%202151330&format=json'\n",
    "data = fetch_data(URL)\n",
    "print(data)\n",
    "assert data['query']['results']['channel']['location']['city'] == 'Beijing'\n",
    "print('ok')"
   ]
  },
  {
   "cell_type": "code",
   "execution_count": null,
   "metadata": {},
   "outputs": [],
   "source": []
  }
 ],
 "metadata": {
  "kernelspec": {
   "display_name": "Python 3",
   "language": "python",
   "name": "python3"
  },
  "language_info": {
   "codemirror_mode": {
    "name": "ipython",
    "version": 3
   },
   "file_extension": ".py",
   "mimetype": "text/x-python",
   "name": "python",
   "nbconvert_exporter": "python",
   "pygments_lexer": "ipython3",
   "version": "3.6.5"
  }
 },
 "nbformat": 4,
 "nbformat_minor": 2
}
