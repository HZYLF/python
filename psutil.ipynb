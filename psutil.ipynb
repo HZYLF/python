{
 "cells": [
  {
   "cell_type": "markdown",
   "metadata": {},
   "source": [
    "## 1. 获取CPU信息"
   ]
  },
  {
   "cell_type": "code",
   "execution_count": 1,
   "metadata": {},
   "outputs": [
    {
     "name": "stdout",
     "output_type": "stream",
     "text": [
      "4\n",
      "2\n"
     ]
    }
   ],
   "source": [
    "import psutil\n",
    "print(psutil.cpu_count()) # CPU逻辑数量\n",
    "print(psutil.cpu_count(logical=False)) # CPU物理核心,# 2说明是双核超线程, 4则是4核非超线程"
   ]
  },
  {
   "cell_type": "markdown",
   "metadata": {},
   "source": [
    "### 1.1 统计CPU的用户／系统／空闲时间："
   ]
  },
  {
   "cell_type": "code",
   "execution_count": 2,
   "metadata": {},
   "outputs": [
    {
     "data": {
      "text/plain": [
       "scputimes(user=52477.265625, system=41865.203125, idle=950624.9687499999, interrupt=1913.015625, dpc=2136.953125)"
      ]
     },
     "execution_count": 2,
     "metadata": {},
     "output_type": "execute_result"
    }
   ],
   "source": [
    "psutil.cpu_times()"
   ]
  },
  {
   "cell_type": "markdown",
   "metadata": {},
   "source": [
    "### 1.2 再实现类似top命令的CPU使用率，每秒刷新一次，累计10次："
   ]
  },
  {
   "cell_type": "code",
   "execution_count": 4,
   "metadata": {},
   "outputs": [
    {
     "name": "stdout",
     "output_type": "stream",
     "text": [
      "[13.6, 14.3, 15.6, 14.1]\n",
      "[20.0, 10.8, 18.8, 17.2]\n",
      "[18.2, 7.8, 15.6, 18.8]\n",
      "[9.2, 9.4, 7.8, 21.9]\n",
      "[9.2, 4.7, 1.6, 7.8]\n",
      "[10.8, 9.4, 3.1, 3.1]\n",
      "[10.9, 3.1, 6.2, 7.8]\n",
      "[13.8, 10.9, 14.1, 25.0]\n",
      "[30.8, 35.4, 36.9, 44.6]\n",
      "[50.0, 37.5, 43.1, 37.5]\n"
     ]
    }
   ],
   "source": [
    "for x in range(10):\n",
    "    print(psutil.cpu_percent(interval=1, percpu=True))"
   ]
  },
  {
   "cell_type": "markdown",
   "metadata": {},
   "source": [
    "### 1.3 获取内存信息\n",
    "使用psutil获取物理内存和交换内存信息，分别使用："
   ]
  },
  {
   "cell_type": "code",
   "execution_count": 5,
   "metadata": {},
   "outputs": [
    {
     "data": {
      "text/plain": [
       "svmem(total=8483737600, available=2767220736, percent=67.4, used=5716516864, free=2767220736)"
      ]
     },
     "execution_count": 5,
     "metadata": {},
     "output_type": "execute_result"
    }
   ],
   "source": [
    "psutil.virtual_memory()"
   ]
  },
  {
   "cell_type": "code",
   "execution_count": 6,
   "metadata": {},
   "outputs": [
    {
     "data": {
      "text/plain": [
       "sswap(total=13584011264, used=8177176576, free=5406834688, percent=60.2, sin=0, sout=0)"
      ]
     },
     "execution_count": 6,
     "metadata": {},
     "output_type": "execute_result"
    }
   ],
   "source": [
    "psutil.swap_memory()"
   ]
  },
  {
   "cell_type": "code",
   "execution_count": null,
   "metadata": {},
   "outputs": [],
   "source": [
    "返回的是字节为单位的整数，可以看到，总内存大小是8483737600 = 7.9 GB，已用5716516864 = 5.3 GB，使用了67.1%。\n",
    "而交换区大小是1073741824 = 12.6 GB。"
   ]
  },
  {
   "cell_type": "code",
   "execution_count": 14,
   "metadata": {},
   "outputs": [
    {
     "data": {
      "text/plain": [
       "12.65109634399414"
      ]
     },
     "execution_count": 14,
     "metadata": {},
     "output_type": "execute_result"
    }
   ],
   "source": [
    "13584011264/(1024*1024*1024)"
   ]
  },
  {
   "cell_type": "code",
   "execution_count": 13,
   "metadata": {},
   "outputs": [
    {
     "data": {
      "text/plain": [
       "0.670886075949367"
      ]
     },
     "execution_count": 13,
     "metadata": {},
     "output_type": "execute_result"
    }
   ],
   "source": [
    "5.3/7.9"
   ]
  },
  {
   "cell_type": "markdown",
   "metadata": {},
   "source": [
    "### 1.4 获取磁盘信息\n",
    "可以通过psutil获取磁盘分区、磁盘使用率和磁盘IO信息："
   ]
  },
  {
   "cell_type": "code",
   "execution_count": 16,
   "metadata": {},
   "outputs": [
    {
     "name": "stdout",
     "output_type": "stream",
     "text": [
      "[sdiskpart(device='C:\\\\', mountpoint='C:\\\\', fstype='NTFS', opts='rw,fixed'), sdiskpart(device='D:\\\\', mountpoint='D:\\\\', fstype='NTFS', opts='rw,fixed')]\n",
      "sdiskusage(total=150557683712, used=51940831232, free=98616852480, percent=34.5)\n",
      "sdiskio(read_count=1580390, write_count=1346138, read_bytes=51811633664, write_bytes=72986073600, read_time=1751, write_time=2238)\n"
     ]
    }
   ],
   "source": [
    "print(psutil.disk_partitions()) # 磁盘分区信息\n",
    "print(psutil.disk_usage('/')) # 磁盘使用情况\n",
    "print(psutil.disk_io_counters()) # 磁盘IO"
   ]
  },
  {
   "cell_type": "markdown",
   "metadata": {},
   "source": [
    "### 1.5 获取进程信息\n",
    "通过psutil可以获取到所有进程的详细信息："
   ]
  },
  {
   "cell_type": "code",
   "execution_count": null,
   "metadata": {},
   "outputs": [],
   "source": [
    ">>> psutil.pids() # 所有进程ID\n",
    "[3865, 3864, 3863, 3856, 3855, 3853, 3776, ..., 45, 44, 1, 0]\n",
    ">>> p = psutil.Process(3776) # 获取指定进程ID=3776，其实就是当前Python交互环境\n",
    ">>> p.name() # 进程名称\n",
    "'python3.6'\n",
    ">>> p.exe() # 进程exe路径\n",
    "'/Users/michael/anaconda3/bin/python3.6'\n",
    ">>> p.cwd() # 进程工作目录\n",
    "'/Users/michael'\n",
    ">>> p.cmdline() # 进程启动的命令行\n",
    "['python3']\n",
    ">>> p.ppid() # 父进程ID\n",
    "3765\n",
    ">>> p.parent() # 父进程\n",
    "<psutil.Process(pid=3765, name='bash') at 4503144040>\n",
    ">>> p.children() # 子进程列表\n",
    "[]\n",
    ">>> p.status() # 进程状态\n",
    "'running'\n",
    ">>> p.username() # 进程用户名\n",
    "'michael'\n",
    ">>> p.create_time() # 进程创建时间\n",
    "1511052731.120333\n",
    ">>> p.terminal() # 进程终端\n",
    "'/dev/ttys002'\n",
    ">>> p.cpu_times() # 进程使用的CPU时间\n",
    "pcputimes(user=0.081150144, system=0.053269812, children_user=0.0, children_system=0.0)\n",
    ">>> p.memory_info() # 进程使用的内存\n",
    "pmem(rss=8310784, vms=2481725440, pfaults=3207, pageins=18)\n",
    ">>> p.open_files() # 进程打开的文件\n",
    "[]\n",
    ">>> p.connections() # 进程相关网络连接\n",
    "[]\n",
    ">>> p.num_threads() # 进程的线程数量\n",
    "1\n",
    ">>> p.threads() # 所有线程信息\n",
    "[pthread(id=1, user_time=0.090318, system_time=0.062736)]\n",
    ">>> p.environ() # 进程环境变量\n",
    "{'SHELL': '/bin/bash', 'PATH': '/usr/local/bin:/usr/bin:/bin:/usr/sbin:/sbin:...', 'PWD': '/Users/michael', 'LANG': 'zh_CN.UTF-8', ...}\n",
    ">>> p.terminate() # 结束进程\n",
    "Terminated: 15 <-- 自己把自己结束了"
   ]
  }
 ],
 "metadata": {
  "kernelspec": {
   "display_name": "Python 3",
   "language": "python",
   "name": "python3"
  },
  "language_info": {
   "codemirror_mode": {
    "name": "ipython",
    "version": 3
   },
   "file_extension": ".py",
   "mimetype": "text/x-python",
   "name": "python",
   "nbconvert_exporter": "python",
   "pygments_lexer": "ipython3",
   "version": "3.6.5"
  }
 },
 "nbformat": 4,
 "nbformat_minor": 2
}
